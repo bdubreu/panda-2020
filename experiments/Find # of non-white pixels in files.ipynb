{
 "cells": [
  {
   "cell_type": "code",
   "execution_count": 6,
   "metadata": {},
   "outputs": [],
   "source": [
    "import time\n",
    "\n",
    "import matplotlib.pyplot as plt\n",
    "import numpy as np\n",
    "import pandas as pd\n",
    "import skimage.io\n",
    "from skimage import morphology\n",
    "import imagecodecs\n",
    "import pprint\n",
    "import cv2\n",
    "import json\n",
    "import zipfile\n",
    "\n",
    "from tqdm.notebook import tqdm\n",
    "import os\n",
    "from multiprocessing import Pool\n",
    "import shutil"
   ]
  },
  {
   "cell_type": "code",
   "execution_count": 7,
   "metadata": {},
   "outputs": [],
   "source": [
    "# Don't change this: constants\n",
    "benjamin_path = '/media/benjamin/Seagate Expansion Drive/content/prostate-cancer-grade-assessment/'\n",
    "maria_path = '/media/maria/2TB Monster driv/prostate-cancer-grade-assessment/'\n",
    "options = [\"avoid_white\", \"avoid_black\", \"use_mask_values\"]\n",
    "\n",
    "my_path = benjamin_path\n",
    "MASKS = os.path.join(benjamin_path, 'train_label_masks/')"
   ]
  },
  {
   "cell_type": "code",
   "execution_count": 8,
   "metadata": {},
   "outputs": [],
   "source": [
    "list_imgs = os.listdir(MASKS)\n",
    "names = [fn[:-10] for fn in list_imgs if '_mask' in fn]"
   ]
  },
  {
   "cell_type": "code",
   "execution_count": 9,
   "metadata": {},
   "outputs": [
    {
     "data": {
      "text/plain": [
       "10515"
      ]
     },
     "execution_count": 9,
     "metadata": {},
     "output_type": "execute_result"
    }
   ],
   "source": [
    "len(names)"
   ]
  },
  {
   "cell_type": "code",
   "execution_count": 19,
   "metadata": {},
   "outputs": [
    {
     "data": {
      "application/vnd.jupyter.widget-view+json": {
       "model_id": "ce753390d05e4e38988c6ea3302769f2",
       "version_major": 2,
       "version_minor": 0
      },
      "text/plain": [
       "HBox(children=(FloatProgress(value=0.0, max=15.0), HTML(value='')))"
      ]
     },
     "metadata": {},
     "output_type": "display_data"
    },
    {
     "name": "stdout",
     "output_type": "stream",
     "text": [
      "\n"
     ]
    }
   ],
   "source": [
    "# 10h, launch at night\n",
    "results = []\n",
    "i = 0\n",
    "for name in tqdm(names):\n",
    "    i += 1\n",
    "    slide_2 = skimage.io.MultiImage(os.path.join(my_path,'train_images/'+name+'.tiff'))[2][:,:,0]\n",
    "    n_useful_px_lvl2 = (slide_2 != 255).sum()\n",
    "    del(slide_2)\n",
    "    slide_1 = skimage.io.MultiImage(os.path.join(my_path,'train_images/'+name+'.tiff'))[1][:,:,0]\n",
    "    n_useful_px_lvl1 = (slide_1 != 255).sum()\n",
    "    del(slide_1)\n",
    "#     if n_useful_px_lvl1 < 36 * 256 * 256 * 8:\n",
    "#         slide_0 = skimage.io.MultiImage(os.path.join(my_path,'train_images/'+name+'.tiff'))[0][:,:,0]\n",
    "#         n_useful_px_lvl0 = (slide_0 != 255).sum()\n",
    "#         del(slide_0)\n",
    "#     else:\n",
    "#         n_useful_px_lvl0 = n_useful_px_lvl1 * 16\n",
    "    \n",
    "    results.append({'name': name, 'nup_lvl0':n_useful_px_lvl1*16, 'nup_lvl1':n_useful_px_lvl1, 'nup_lvl2':n_useful_px_lvl2})\n",
    "    if i % 100 == 0:\n",
    "        df = pd.DataFrame(results)\n",
    "        df.to_csv('../data/n_non_white_pixels.csv', index=False)"
   ]
  },
  {
   "cell_type": "code",
   "execution_count": 23,
   "metadata": {},
   "outputs": [],
   "source": [
    "df = pd.DataFrame(results)\n",
    "df.to_csv('../data/n_non_white_pixels.csv', index=False)"
   ]
  },
  {
   "cell_type": "code",
   "execution_count": null,
   "metadata": {},
   "outputs": [],
   "source": []
  }
 ],
 "metadata": {
  "kernelspec": {
   "display_name": "Python 3",
   "language": "python",
   "name": "python3"
  },
  "language_info": {
   "codemirror_mode": {
    "name": "ipython",
    "version": 3
   },
   "file_extension": ".py",
   "mimetype": "text/x-python",
   "name": "python",
   "nbconvert_exporter": "python",
   "pygments_lexer": "ipython3",
   "version": "3.7.6"
  }
 },
 "nbformat": 4,
 "nbformat_minor": 2
}
