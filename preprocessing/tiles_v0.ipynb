{
 "cells": [
  {
   "cell_type": "code",
   "execution_count": 1,
   "metadata": {},
   "outputs": [
    {
     "name": "stdout",
     "output_type": "stream",
     "text": [
      "Sun Jun 28 10:35:04 2020       \r\n",
      "+-----------------------------------------------------------------------------+\r\n",
      "| NVIDIA-SMI 440.100      Driver Version: 440.100      CUDA Version: 10.2     |\r\n",
      "|-------------------------------+----------------------+----------------------+\r\n",
      "| GPU  Name        Persistence-M| Bus-Id        Disp.A | Volatile Uncorr. ECC |\r\n",
      "| Fan  Temp  Perf  Pwr:Usage/Cap|         Memory-Usage | GPU-Util  Compute M. |\r\n",
      "|===============================+======================+======================|\r\n",
      "|   0  GeForce RTX 2060    Off  | 00000000:01:00.0 Off |                  N/A |\r\n",
      "| N/A   78C    P2    73W /  N/A |   3450MiB /  5934MiB |     90%      Default |\r\n",
      "+-------------------------------+----------------------+----------------------+\r\n",
      "                                                                               \r\n",
      "+-----------------------------------------------------------------------------+\r\n",
      "| Processes:                                                       GPU Memory |\r\n",
      "|  GPU       PID   Type   Process name                             Usage      |\r\n",
      "|=============================================================================|\r\n",
      "|    0       987      G   /usr/lib/xorg/Xorg                            94MiB |\r\n",
      "|    0      1445      G   /usr/bin/gnome-shell                          89MiB |\r\n",
      "|    0      4298      C   /home/benjamin/anaconda3/bin/python         3261MiB |\r\n",
      "+-----------------------------------------------------------------------------+\r\n"
     ]
    }
   ],
   "source": [
    "!nvidia-smi"
   ]
  },
  {
   "cell_type": "markdown",
   "metadata": {},
   "source": [
    "# Tiles v0\n",
    "- what makes no sense: tiling on too small images\n",
    "- otherwise: tile with basic lafoss approach for baseline\n",
    "- we don't use otsu stuff anymore"
   ]
  },
  {
   "cell_type": "code",
   "execution_count": 1,
   "metadata": {},
   "outputs": [],
   "source": [
    "import os\n",
    "import cv2\n",
    "import skimage.io\n",
    "from tqdm.notebook import tqdm\n",
    "import zipfile\n",
    "import pandas as pd\n",
    "import numpy as np\n",
    "import matplotlib.pyplot as plt\n",
    "from functools import partial\n"
   ]
  },
  {
   "cell_type": "code",
   "execution_count": 26,
   "metadata": {},
   "outputs": [],
   "source": [
    "benjamin_path = '/media/benjamin/Seagate Expansion Drive/content/prostate-cancer-grade-assessment/'"
   ]
  },
  {
   "cell_type": "code",
   "execution_count": 27,
   "metadata": {},
   "outputs": [],
   "source": [
    "TRAIN = benjamin_path + '/train_images/'\n",
    "MASKS = benjamin_path + '/train_label_masks/'\n",
    "sz = 128\n",
    "N = 12\n",
    "\n",
    "wanted_size = sz*sz*N  # CHANGE THIS ACCORDING TO YOUR NEEDS\n",
    "\n",
    "# add a margin, which prevent getting to level1 image if level2 is just slightly not enough\n",
    "# bigger margin = more white tiles on small pictures, more info used on big ones\n",
    "# smaller margin = we get to level1 as soon as level2 is not enough. But getting to level1 too soon may result\n",
    "# in modelling with only 6% of the available info\n",
    "# Maybe experiment with margin of 1, 1.5 and 2 and see if model performs better with white tiles but all the info \n",
    "# or with low info but no white tiles ???\n",
    "margin = 1.3\n",
    "\n",
    "\n",
    "OUT_TRAIN = '../data/processed/train_tiles_v0/'\n",
    "OUT_MASKS = '../data/processed/masks_tiles_v0/'\n",
    "os.makedirs(OUT_TRAIN, exist_ok=True)\n",
    "os.makedirs(OUT_MASKS, exist_ok=True)"
   ]
  },
  {
   "cell_type": "code",
   "execution_count": 28,
   "metadata": {
    "scrolled": true
   },
   "outputs": [
    {
     "data": {
      "text/plain": [
       "['interim',\n",
       " 'thousand_dups.csv',\n",
       " 'raw',\n",
       " 'train.csv',\n",
       " 'images_wo_duplicates.csv',\n",
       " 'five_hundred_dups.csv',\n",
       " 'n_non_white_pixels.csv',\n",
       " 'augmented_df.csv',\n",
       " 'processed',\n",
       " 'folds.csv']"
      ]
     },
     "execution_count": 28,
     "metadata": {},
     "output_type": "execute_result"
    }
   ],
   "source": [
    "os.listdir('../data/')"
   ]
  },
  {
   "cell_type": "code",
   "execution_count": 29,
   "metadata": {},
   "outputs": [
    {
     "data": {
      "text/html": [
       "<div>\n",
       "<style scoped>\n",
       "    .dataframe tbody tr th:only-of-type {\n",
       "        vertical-align: middle;\n",
       "    }\n",
       "\n",
       "    .dataframe tbody tr th {\n",
       "        vertical-align: top;\n",
       "    }\n",
       "\n",
       "    .dataframe thead th {\n",
       "        text-align: right;\n",
       "    }\n",
       "</style>\n",
       "<table border=\"1\" class=\"dataframe\">\n",
       "  <thead>\n",
       "    <tr style=\"text-align: right;\">\n",
       "      <th></th>\n",
       "      <th>name</th>\n",
       "      <th>nup_lvl0</th>\n",
       "      <th>nup_lvl1</th>\n",
       "      <th>nup_lvl2</th>\n",
       "    </tr>\n",
       "  </thead>\n",
       "  <tbody>\n",
       "    <tr>\n",
       "      <th>0</th>\n",
       "      <td>7e72dea4ae66b5bf583013ec985e5209.tiff</td>\n",
       "      <td>35034032</td>\n",
       "      <td>2189627</td>\n",
       "      <td>144437</td>\n",
       "    </tr>\n",
       "    <tr>\n",
       "      <th>1</th>\n",
       "      <td>0005f7aaab2800f6170c399693a96917.tiff</td>\n",
       "      <td>28117072</td>\n",
       "      <td>1757317</td>\n",
       "      <td>114954</td>\n",
       "    </tr>\n",
       "    <tr>\n",
       "      <th>2</th>\n",
       "      <td>000920ad0b612851f8e01bcc880d9b3d.tiff</td>\n",
       "      <td>11694016</td>\n",
       "      <td>730876</td>\n",
       "      <td>48557</td>\n",
       "    </tr>\n",
       "    <tr>\n",
       "      <th>3</th>\n",
       "      <td>0018ae58b01bdadc8e347995b69f99aa.tiff</td>\n",
       "      <td>85130816</td>\n",
       "      <td>5320676</td>\n",
       "      <td>337150</td>\n",
       "    </tr>\n",
       "    <tr>\n",
       "      <th>4</th>\n",
       "      <td>001c62abd11fa4b57bf7a6c603a11bb9.tiff</td>\n",
       "      <td>35243200</td>\n",
       "      <td>2202700</td>\n",
       "      <td>144804</td>\n",
       "    </tr>\n",
       "    <tr>\n",
       "      <th>...</th>\n",
       "      <td>...</td>\n",
       "      <td>...</td>\n",
       "      <td>...</td>\n",
       "      <td>...</td>\n",
       "    </tr>\n",
       "    <tr>\n",
       "      <th>10510</th>\n",
       "      <td>878be7ee5bdda3b29e2417f6dc93af64</td>\n",
       "      <td>42199616</td>\n",
       "      <td>2637476</td>\n",
       "      <td>167727</td>\n",
       "    </tr>\n",
       "    <tr>\n",
       "      <th>10511</th>\n",
       "      <td>878e0b1bbfa299387e3afed9d7c372bf</td>\n",
       "      <td>50417776</td>\n",
       "      <td>3151111</td>\n",
       "      <td>201905</td>\n",
       "    </tr>\n",
       "    <tr>\n",
       "      <th>10512</th>\n",
       "      <td>8794d36a3038f4537f7d261d3af4eebd</td>\n",
       "      <td>31610800</td>\n",
       "      <td>1975675</td>\n",
       "      <td>126389</td>\n",
       "    </tr>\n",
       "    <tr>\n",
       "      <th>10513</th>\n",
       "      <td>8796432c343bcf3bcca556dc3375702e</td>\n",
       "      <td>39946144</td>\n",
       "      <td>2496634</td>\n",
       "      <td>166341</td>\n",
       "    </tr>\n",
       "    <tr>\n",
       "      <th>10514</th>\n",
       "      <td>c54f0e85e9e4d397843314eed507d06f</td>\n",
       "      <td>30191744</td>\n",
       "      <td>1886984</td>\n",
       "      <td>124467</td>\n",
       "    </tr>\n",
       "  </tbody>\n",
       "</table>\n",
       "<p>10515 rows × 4 columns</p>\n",
       "</div>"
      ],
      "text/plain": [
       "                                        name  nup_lvl0  nup_lvl1  nup_lvl2\n",
       "0      7e72dea4ae66b5bf583013ec985e5209.tiff  35034032   2189627    144437\n",
       "1      0005f7aaab2800f6170c399693a96917.tiff  28117072   1757317    114954\n",
       "2      000920ad0b612851f8e01bcc880d9b3d.tiff  11694016    730876     48557\n",
       "3      0018ae58b01bdadc8e347995b69f99aa.tiff  85130816   5320676    337150\n",
       "4      001c62abd11fa4b57bf7a6c603a11bb9.tiff  35243200   2202700    144804\n",
       "...                                      ...       ...       ...       ...\n",
       "10510       878be7ee5bdda3b29e2417f6dc93af64  42199616   2637476    167727\n",
       "10511       878e0b1bbfa299387e3afed9d7c372bf  50417776   3151111    201905\n",
       "10512       8794d36a3038f4537f7d261d3af4eebd  31610800   1975675    126389\n",
       "10513       8796432c343bcf3bcca556dc3375702e  39946144   2496634    166341\n",
       "10514       c54f0e85e9e4d397843314eed507d06f  30191744   1886984    124467\n",
       "\n",
       "[10515 rows x 4 columns]"
      ]
     },
     "execution_count": 29,
     "metadata": {},
     "output_type": "execute_result"
    }
   ],
   "source": [
    "# fully white pic: 3790f55cad63053e956fb73027179707\n",
    "df = pd.read_csv('../data/../data/n_non_white_pixels.csv')\n",
    "df"
   ]
  },
  {
   "cell_type": "code",
   "execution_count": 30,
   "metadata": {},
   "outputs": [
    {
     "data": {
      "text/plain": [
       "2    5373\n",
       "1    5136\n",
       "0       6\n",
       "Name: level_for_wanted_size, dtype: int64"
      ]
     },
     "execution_count": 30,
     "metadata": {},
     "output_type": "execute_result"
    }
   ],
   "source": [
    "lvl2_enough = (wanted_size < df['nup_lvl2'] * margin).astype(int)\n",
    "lvl1_enough = (wanted_size < df['nup_lvl1'] * margin).astype(int)\n",
    "lvl0_enough = (wanted_size < df['nup_lvl0'] * margin).astype(int)\n",
    "df['level_for_wanted_size'] = np.clip(lvl2_enough + lvl1_enough + lvl0_enough - 1, 0, 2)\n",
    "df['level_for_wanted_size'].value_counts()"
   ]
  },
  {
   "cell_type": "code",
   "execution_count": 31,
   "metadata": {},
   "outputs": [],
   "source": [
    "# iterate only on pictures where there are masks\n",
    "names = [name[:-10] for name in os.listdir(MASKS)]\n",
    "df['name'] = df['name'].apply(lambda x: x.split('.')[0])\n",
    "df_masks_only = df[ df['name'].isin(names)]"
   ]
  },
  {
   "cell_type": "code",
   "execution_count": 32,
   "metadata": {},
   "outputs": [
    {
     "data": {
      "text/html": [
       "<div>\n",
       "<style scoped>\n",
       "    .dataframe tbody tr th:only-of-type {\n",
       "        vertical-align: middle;\n",
       "    }\n",
       "\n",
       "    .dataframe tbody tr th {\n",
       "        vertical-align: top;\n",
       "    }\n",
       "\n",
       "    .dataframe thead th {\n",
       "        text-align: right;\n",
       "    }\n",
       "</style>\n",
       "<table border=\"1\" class=\"dataframe\">\n",
       "  <thead>\n",
       "    <tr style=\"text-align: right;\">\n",
       "      <th></th>\n",
       "      <th>name</th>\n",
       "      <th>nup_lvl0</th>\n",
       "      <th>nup_lvl1</th>\n",
       "      <th>nup_lvl2</th>\n",
       "      <th>level_for_wanted_size</th>\n",
       "    </tr>\n",
       "  </thead>\n",
       "  <tbody>\n",
       "    <tr>\n",
       "      <th>0</th>\n",
       "      <td>7e72dea4ae66b5bf583013ec985e5209</td>\n",
       "      <td>35034032</td>\n",
       "      <td>2189627</td>\n",
       "      <td>144437</td>\n",
       "      <td>1</td>\n",
       "    </tr>\n",
       "    <tr>\n",
       "      <th>1</th>\n",
       "      <td>0005f7aaab2800f6170c399693a96917</td>\n",
       "      <td>28117072</td>\n",
       "      <td>1757317</td>\n",
       "      <td>114954</td>\n",
       "      <td>1</td>\n",
       "    </tr>\n",
       "    <tr>\n",
       "      <th>2</th>\n",
       "      <td>000920ad0b612851f8e01bcc880d9b3d</td>\n",
       "      <td>11694016</td>\n",
       "      <td>730876</td>\n",
       "      <td>48557</td>\n",
       "      <td>1</td>\n",
       "    </tr>\n",
       "    <tr>\n",
       "      <th>3</th>\n",
       "      <td>0018ae58b01bdadc8e347995b69f99aa</td>\n",
       "      <td>85130816</td>\n",
       "      <td>5320676</td>\n",
       "      <td>337150</td>\n",
       "      <td>2</td>\n",
       "    </tr>\n",
       "    <tr>\n",
       "      <th>4</th>\n",
       "      <td>001c62abd11fa4b57bf7a6c603a11bb9</td>\n",
       "      <td>35243200</td>\n",
       "      <td>2202700</td>\n",
       "      <td>144804</td>\n",
       "      <td>1</td>\n",
       "    </tr>\n",
       "    <tr>\n",
       "      <th>...</th>\n",
       "      <td>...</td>\n",
       "      <td>...</td>\n",
       "      <td>...</td>\n",
       "      <td>...</td>\n",
       "      <td>...</td>\n",
       "    </tr>\n",
       "    <tr>\n",
       "      <th>10510</th>\n",
       "      <td>878be7ee5bdda3b29e2417f6dc93af64</td>\n",
       "      <td>42199616</td>\n",
       "      <td>2637476</td>\n",
       "      <td>167727</td>\n",
       "      <td>2</td>\n",
       "    </tr>\n",
       "    <tr>\n",
       "      <th>10511</th>\n",
       "      <td>878e0b1bbfa299387e3afed9d7c372bf</td>\n",
       "      <td>50417776</td>\n",
       "      <td>3151111</td>\n",
       "      <td>201905</td>\n",
       "      <td>2</td>\n",
       "    </tr>\n",
       "    <tr>\n",
       "      <th>10512</th>\n",
       "      <td>8794d36a3038f4537f7d261d3af4eebd</td>\n",
       "      <td>31610800</td>\n",
       "      <td>1975675</td>\n",
       "      <td>126389</td>\n",
       "      <td>1</td>\n",
       "    </tr>\n",
       "    <tr>\n",
       "      <th>10513</th>\n",
       "      <td>8796432c343bcf3bcca556dc3375702e</td>\n",
       "      <td>39946144</td>\n",
       "      <td>2496634</td>\n",
       "      <td>166341</td>\n",
       "      <td>2</td>\n",
       "    </tr>\n",
       "    <tr>\n",
       "      <th>10514</th>\n",
       "      <td>c54f0e85e9e4d397843314eed507d06f</td>\n",
       "      <td>30191744</td>\n",
       "      <td>1886984</td>\n",
       "      <td>124467</td>\n",
       "      <td>1</td>\n",
       "    </tr>\n",
       "  </tbody>\n",
       "</table>\n",
       "<p>10515 rows × 5 columns</p>\n",
       "</div>"
      ],
      "text/plain": [
       "                                   name  nup_lvl0  nup_lvl1  nup_lvl2  \\\n",
       "0      7e72dea4ae66b5bf583013ec985e5209  35034032   2189627    144437   \n",
       "1      0005f7aaab2800f6170c399693a96917  28117072   1757317    114954   \n",
       "2      000920ad0b612851f8e01bcc880d9b3d  11694016    730876     48557   \n",
       "3      0018ae58b01bdadc8e347995b69f99aa  85130816   5320676    337150   \n",
       "4      001c62abd11fa4b57bf7a6c603a11bb9  35243200   2202700    144804   \n",
       "...                                 ...       ...       ...       ...   \n",
       "10510  878be7ee5bdda3b29e2417f6dc93af64  42199616   2637476    167727   \n",
       "10511  878e0b1bbfa299387e3afed9d7c372bf  50417776   3151111    201905   \n",
       "10512  8794d36a3038f4537f7d261d3af4eebd  31610800   1975675    126389   \n",
       "10513  8796432c343bcf3bcca556dc3375702e  39946144   2496634    166341   \n",
       "10514  c54f0e85e9e4d397843314eed507d06f  30191744   1886984    124467   \n",
       "\n",
       "       level_for_wanted_size  \n",
       "0                          1  \n",
       "1                          1  \n",
       "2                          1  \n",
       "3                          2  \n",
       "4                          1  \n",
       "...                      ...  \n",
       "10510                      2  \n",
       "10511                      2  \n",
       "10512                      1  \n",
       "10513                      2  \n",
       "10514                      1  \n",
       "\n",
       "[10515 rows x 5 columns]"
      ]
     },
     "execution_count": 32,
     "metadata": {},
     "output_type": "execute_result"
    }
   ],
   "source": [
    "df"
   ]
  },
  {
   "cell_type": "code",
   "execution_count": 33,
   "metadata": {},
   "outputs": [],
   "source": [
    "def tile(img):  # , mask\n",
    "    result = []\n",
    "    shape = img.shape\n",
    "    # get perfect multiples of sz to cut the image\n",
    "    pad0,pad1 = (sz - shape[0]%sz)%sz, (sz - shape[1]%sz)%sz\n",
    "    img = np.pad(img,[[pad0//2,pad0-pad0//2],[pad1//2,pad1-pad1//2],[0,0]],\n",
    "                constant_values=255)\n",
    "#     mask = np.pad(mask,[[pad0//2,pad0-pad0//2],[pad1//2,pad1-pad1//2],[0,0]],\n",
    "#                 constant_values=0)\n",
    "    \n",
    "    # all_patches x sz x sz x n_channels\n",
    "    img = img.reshape(img.shape[0]//sz,sz,img.shape[1]//sz,sz,3)\n",
    "    img = img.transpose(0,2,1,3,4).reshape(-1,sz,sz,3)\n",
    "#     mask = mask.reshape(mask.shape[0]//sz,sz,mask.shape[1]//sz,sz,3)\n",
    "#     mask = mask.transpose(0,2,1,3,4).reshape(-1,sz,sz,3)\n",
    "    \n",
    "    # if not enough patches, create additionnal with all_zeros (masks) or all_white (images)\n",
    "    if len(img) < N:\n",
    "        #mask = np.pad(mask,[[0,N-len(img)],[0,0],[0,0],[0,0]],constant_values=0)\n",
    "        img = np.pad(img,[[0,N-len(img)],[0,0],[0,0],[0,0]],constant_values=255)\n",
    "        \n",
    "    # I changed the following line to focus on having masks with cancer instead of getting rid of white\n",
    "    idxs = np.argsort(img.reshape(img.shape[0],-1).sum(-1))[:N]  # [::-1]\n",
    "    img = img[idxs]\n",
    "#     mask = mask[idxs]\n",
    "    for i in range(len(img)):\n",
    "        result.append({'img':img[i], 'idx':i})  # 'mask':mask[i], \n",
    "    return result"
   ]
  },
  {
   "cell_type": "code",
   "execution_count": 34,
   "metadata": {},
   "outputs": [
    {
     "data": {
      "application/vnd.jupyter.widget-view+json": {
       "model_id": "b2871b6688434f48a0089978ba25d4f1",
       "version_major": 2,
       "version_minor": 0
      },
      "text/plain": [
       "HBox(children=(FloatProgress(value=0.0, max=10515.0), HTML(value='')))"
      ]
     },
     "metadata": {},
     "output_type": "display_data"
    },
    {
     "name": "stdout",
     "output_type": "stream",
     "text": [
      "\n"
     ]
    }
   ],
   "source": [
    "x_tot,x2_tot = [],[]\n",
    "for row in tqdm(df_masks_only.iterrows(), total=len(df_masks_only)):\n",
    "    name = row[1]['name']\n",
    "    level = row[1]['level_for_wanted_size']\n",
    "    img = skimage.io.MultiImage(os.path.join(TRAIN,name+'.tiff'))[level]\n",
    "    #mask = skimage.io.MultiImage(os.path.join(MASKS,name+'_mask.tiff'))[level]\n",
    "    tiles = tile(img)\n",
    "    for t in tiles:\n",
    "        img,idx = t['img'], t['idx']  #,mask, = t['mask'],\n",
    "        x_tot.append((img/255.0).reshape(-1,3).mean(0))\n",
    "        x2_tot.append(((img/255.0)**2).reshape(-1,3).mean(0)) \n",
    "        #if read with PIL RGB turns into BGR\n",
    "        img = cv2.cvtColor(img, cv2.COLOR_RGB2BGR)\n",
    "        cv2.imwrite(OUT_TRAIN+f'{name}_{idx}.png', img)\n",
    "#         mask = mask[:,:,0]\n",
    "#         cv2.imwrite(OUT_MASKS+f'{name}_{idx}.png', mask)"
   ]
  },
  {
   "cell_type": "code",
   "execution_count": 35,
   "metadata": {},
   "outputs": [
    {
     "name": "stdout",
     "output_type": "stream",
     "text": [
      "mean: [0.80822448 0.6134578  0.74502575] , std: [0.41603894 0.53319771 0.43256397]\n"
     ]
    }
   ],
   "source": [
    "img_avr =  np.array(x_tot).mean(0)\n",
    "img_std =  np.sqrt(np.array(x2_tot).mean(0) - img_avr**2)\n",
    "print('mean:',img_avr, ', std:', np.sqrt(img_std))"
   ]
  },
  {
   "cell_type": "code",
   "execution_count": null,
   "metadata": {},
   "outputs": [],
   "source": []
  },
  {
   "cell_type": "code",
   "execution_count": null,
   "metadata": {},
   "outputs": [],
   "source": []
  }
 ],
 "metadata": {
  "environment": {
   "name": "pytorch-gpu.1-4.m46",
   "type": "gcloud",
   "uri": "gcr.io/deeplearning-platform-release/pytorch-gpu.1-4:m46"
  },
  "kernelspec": {
   "display_name": "Python 3",
   "language": "python",
   "name": "python3"
  },
  "language_info": {
   "codemirror_mode": {
    "name": "ipython",
    "version": 3
   },
   "file_extension": ".py",
   "mimetype": "text/x-python",
   "name": "python",
   "nbconvert_exporter": "python",
   "pygments_lexer": "ipython3",
   "version": "3.7.6"
  }
 },
 "nbformat": 4,
 "nbformat_minor": 4
}
